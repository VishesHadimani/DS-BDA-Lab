{
 "cells": [
  {
   "cell_type": "code",
   "execution_count": 14,
   "id": "421124d8-03e0-403f-bdc7-53d13c7ba6f4",
   "metadata": {},
   "outputs": [
    {
     "name": "stdout",
     "output_type": "stream",
     "text": [
      "Original DataFrame:\n",
      "   Identifier             Edition Statement      Place of Publication  \\\n",
      "0         206                           NaN                    London   \n",
      "1         216                           NaN  London; Virtue & Yorston   \n",
      "2         218                           NaN                    London   \n",
      "3         472                           NaN                    London   \n",
      "4         480  A new edition, revised, etc.                    London   \n",
      "\n",
      "  Date of Publication              Publisher  \\\n",
      "0         1879 [1878]       S. Tinsley & Co.   \n",
      "1                1868           Virtue & Co.   \n",
      "2                1869  Bradbury, Evans & Co.   \n",
      "3                1851          James Darling   \n",
      "4                1857   Wertheim & Macintosh   \n",
      "\n",
      "                                               Title     Author  \\\n",
      "0                  Walter Forbes. [A novel.] By A. A      A. A.   \n",
      "1  All for Greed. [A novel. The dedication signed...  A., A. A.   \n",
      "2  Love the Avenger. By the author of “All for Gr...  A., A. A.   \n",
      "3  Welsh Sketches, chiefly ecclesiastical, to the...  A., E. S.   \n",
      "4  [The World in which I live, and my place in it...  A., E. S.   \n",
      "\n",
      "                                   Contributors  Corporate Author  \\\n",
      "0                               FORBES, Walter.               NaN   \n",
      "1  BLAZE DE BURY, Marie Pauline Rose - Baroness               NaN   \n",
      "2  BLAZE DE BURY, Marie Pauline Rose - Baroness               NaN   \n",
      "3                   Appleyard, Ernest Silvanus.               NaN   \n",
      "4                           BROOME, John Henry.               NaN   \n",
      "\n",
      "   Corporate Contributors Former owner  Engraver Issuance type  \\\n",
      "0                     NaN          NaN       NaN   monographic   \n",
      "1                     NaN          NaN       NaN   monographic   \n",
      "2                     NaN          NaN       NaN   monographic   \n",
      "3                     NaN          NaN       NaN   monographic   \n",
      "4                     NaN          NaN       NaN   monographic   \n",
      "\n",
      "                                          Flickr URL  \\\n",
      "0  http://www.flickr.com/photos/britishlibrary/ta...   \n",
      "1  http://www.flickr.com/photos/britishlibrary/ta...   \n",
      "2  http://www.flickr.com/photos/britishlibrary/ta...   \n",
      "3  http://www.flickr.com/photos/britishlibrary/ta...   \n",
      "4  http://www.flickr.com/photos/britishlibrary/ta...   \n",
      "\n",
      "                            Shelfmarks  \n",
      "0    British Library HMNTS 12641.b.30.  \n",
      "1    British Library HMNTS 12626.cc.2.  \n",
      "2    British Library HMNTS 12625.dd.1.  \n",
      "3  British Library HMNTS 10369.bbb.15.  \n",
      "4     British Library HMNTS 9007.d.28.  \n"
     ]
    }
   ],
   "source": [
    "import pandas as pd\n",
    "import numpy as np\n",
    "import re\n",
    "\n",
    "file_path = 'BL-Flickr-Images-Book.csv'\n",
    "df = pd.read_csv(file_path)\n",
    "\n",
    "print(\"Original DataFrame:\")\n",
    "print(df.head())"
   ]
  },
  {
   "cell_type": "code",
   "execution_count": 15,
   "id": "2c9cc820-c01d-4543-91e2-28fd4a809139",
   "metadata": {},
   "outputs": [
    {
     "name": "stdout",
     "output_type": "stream",
     "text": [
      "\n",
      "DataFrame after dropping irrelevant columns:\n",
      "   Identifier      Place of Publication Date of Publication  \\\n",
      "0         206                    London         1879 [1878]   \n",
      "1         216  London; Virtue & Yorston                1868   \n",
      "2         218                    London                1869   \n",
      "3         472                    London                1851   \n",
      "4         480                    London                1857   \n",
      "\n",
      "               Publisher                                              Title  \\\n",
      "0       S. Tinsley & Co.                  Walter Forbes. [A novel.] By A. A   \n",
      "1           Virtue & Co.  All for Greed. [A novel. The dedication signed...   \n",
      "2  Bradbury, Evans & Co.  Love the Avenger. By the author of “All for Gr...   \n",
      "3          James Darling  Welsh Sketches, chiefly ecclesiastical, to the...   \n",
      "4   Wertheim & Macintosh  [The World in which I live, and my place in it...   \n",
      "\n",
      "      Author Issuance type                                         Flickr URL  \n",
      "0      A. A.   monographic  http://www.flickr.com/photos/britishlibrary/ta...  \n",
      "1  A., A. A.   monographic  http://www.flickr.com/photos/britishlibrary/ta...  \n",
      "2  A., A. A.   monographic  http://www.flickr.com/photos/britishlibrary/ta...  \n",
      "3  A., E. S.   monographic  http://www.flickr.com/photos/britishlibrary/ta...  \n",
      "4  A., E. S.   monographic  http://www.flickr.com/photos/britishlibrary/ta...  \n"
     ]
    }
   ],
   "source": [
    "irrelevant_columns = ['Edition Statement', 'Corporate Author', 'Corporate Contributors', 'Former owner', 'Engraver', 'Contributors', 'Shelfmarks']\n",
    "df.drop(columns=irrelevant_columns, inplace=True)\n",
    "\n",
    "print(\"\\nDataFrame after dropping irrelevant columns:\")\n",
    "print(df.head())"
   ]
  },
  {
   "cell_type": "code",
   "execution_count": 16,
   "id": "07b0b4bd-cce3-484c-a7f1-826703860a07",
   "metadata": {},
   "outputs": [
    {
     "name": "stdout",
     "output_type": "stream",
     "text": [
      "\n",
      "DataFrame after setting new index (Identifier):\n",
      "                Place of Publication Date of Publication  \\\n",
      "Identifier                                                 \n",
      "206                           London         1879 [1878]   \n",
      "216         London; Virtue & Yorston                1868   \n",
      "218                           London                1869   \n",
      "472                           London                1851   \n",
      "480                           London                1857   \n",
      "\n",
      "                        Publisher  \\\n",
      "Identifier                          \n",
      "206              S. Tinsley & Co.   \n",
      "216                  Virtue & Co.   \n",
      "218         Bradbury, Evans & Co.   \n",
      "472                 James Darling   \n",
      "480          Wertheim & Macintosh   \n",
      "\n",
      "                                                        Title     Author  \\\n",
      "Identifier                                                                 \n",
      "206                         Walter Forbes. [A novel.] By A. A      A. A.   \n",
      "216         All for Greed. [A novel. The dedication signed...  A., A. A.   \n",
      "218         Love the Avenger. By the author of “All for Gr...  A., A. A.   \n",
      "472         Welsh Sketches, chiefly ecclesiastical, to the...  A., E. S.   \n",
      "480         [The World in which I live, and my place in it...  A., E. S.   \n",
      "\n",
      "           Issuance type                                         Flickr URL  \n",
      "Identifier                                                                   \n",
      "206          monographic  http://www.flickr.com/photos/britishlibrary/ta...  \n",
      "216          monographic  http://www.flickr.com/photos/britishlibrary/ta...  \n",
      "218          monographic  http://www.flickr.com/photos/britishlibrary/ta...  \n",
      "472          monographic  http://www.flickr.com/photos/britishlibrary/ta...  \n",
      "480          monographic  http://www.flickr.com/photos/britishlibrary/ta...  \n"
     ]
    }
   ],
   "source": [
    "df.set_index('Identifier', inplace=True)\n",
    "\n",
    "print(\"\\nDataFrame after setting new index (Identifier):\")\n",
    "print(df.head())"
   ]
  },
  {
   "cell_type": "code",
   "execution_count": 17,
   "id": "075b5398-e022-4193-99ff-cdce8924f2ec",
   "metadata": {},
   "outputs": [
    {
     "name": "stdout",
     "output_type": "stream",
     "text": [
      "\n",
      "DataFrame after cleaning 'Date of Publication':\n",
      "            Date of Publication\n",
      "Identifier                     \n",
      "206                      1879.0\n",
      "216                      1868.0\n",
      "218                      1869.0\n",
      "472                      1851.0\n",
      "480                      1857.0\n"
     ]
    }
   ],
   "source": [
    "def clean_date(date):\n",
    "    if pd.isna(date):\n",
    "        return np.nan\n",
    "    match = re.search(r'\\d{4}', str(date))\n",
    "    if match:\n",
    "        return int(match.group(0))\n",
    "    return np.nan\n",
    "\n",
    "df['Date of Publication'] = df['Date of Publication'].apply(clean_date)\n",
    "\n",
    "print(\"\\nDataFrame after cleaning 'Date of Publication':\")\n",
    "print(df[['Date of Publication']].head())"
   ]
  },
  {
   "cell_type": "code",
   "execution_count": 18,
   "id": "af98f10c-35cd-4ca8-a626-c4420494611e",
   "metadata": {},
   "outputs": [
    {
     "name": "stdout",
     "output_type": "stream",
     "text": [
      "\n",
      "DataFrame after cleaning 'Place of Publication':\n",
      "           Place of Publication\n",
      "Identifier                     \n",
      "206                      London\n",
      "216                      London\n",
      "218                      London\n",
      "472                      London\n",
      "480                      London\n"
     ]
    }
   ],
   "source": [
    "df['Place of Publication'] = np.where(df['Place of Publication'].str.contains('London'), 'London', df['Place of Publication'])\n",
    "df['Place of Publication'] = np.where(df['Place of Publication'].str.contains('Oxford'), 'Oxford', df['Place of Publication'])\n",
    "\n",
    "print(\"\\nDataFrame after cleaning 'Place of Publication':\")\n",
    "print(df[['Place of Publication']].head())"
   ]
  },
  {
   "cell_type": "code",
   "execution_count": 19,
   "id": "81eea6a1-4da3-480e-ba6e-692673edc341",
   "metadata": {},
   "outputs": [
    {
     "name": "stdout",
     "output_type": "stream",
     "text": [
      "\n",
      "Final Cleaned DataFrame:\n",
      "           Place of Publication  Date of Publication              Publisher  \\\n",
      "Identifier                                                                    \n",
      "206                      London               1879.0       S. Tinsley & Co.   \n",
      "216                      London               1868.0           Virtue & Co.   \n",
      "218                      London               1869.0  Bradbury, Evans & Co.   \n",
      "472                      London               1851.0          James Darling   \n",
      "480                      London               1857.0   Wertheim & Macintosh   \n",
      "\n",
      "                                                        Title     Author  \\\n",
      "Identifier                                                                 \n",
      "206                         Walter Forbes. [A novel.] By A. A      A. A.   \n",
      "216         All for Greed. [A novel. The dedication signed...  A., A. A.   \n",
      "218         Love the Avenger. By the author of “All for Gr...  A., A. A.   \n",
      "472         Welsh Sketches, chiefly ecclesiastical, to the...  A., E. S.   \n",
      "480         [The World in which I live, and my place in it...  A., E. S.   \n",
      "\n",
      "           Issuance type                                         Flickr URL  \n",
      "Identifier                                                                   \n",
      "206          monographic  http://www.flickr.com/photos/britishlibrary/ta...  \n",
      "216          monographic  http://www.flickr.com/photos/britishlibrary/ta...  \n",
      "218          monographic  http://www.flickr.com/photos/britishlibrary/ta...  \n",
      "472          monographic  http://www.flickr.com/photos/britishlibrary/ta...  \n",
      "480          monographic  http://www.flickr.com/photos/britishlibrary/ta...  \n"
     ]
    }
   ],
   "source": [
    "print(\"\\nFinal Cleaned DataFrame:\")\n",
    "print(df.head())"
   ]
  }
 ],
 "metadata": {
  "kernelspec": {
   "display_name": "Python 3 (ipykernel)",
   "language": "python",
   "name": "python3"
  },
  "language_info": {
   "codemirror_mode": {
    "name": "ipython",
    "version": 3
   },
   "file_extension": ".py",
   "mimetype": "text/x-python",
   "name": "python",
   "nbconvert_exporter": "python",
   "pygments_lexer": "ipython3",
   "version": "3.12.4"
  }
 },
 "nbformat": 4,
 "nbformat_minor": 5
}
